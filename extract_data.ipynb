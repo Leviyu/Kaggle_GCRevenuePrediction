{
 "cells": [
  {
   "cell_type": "code",
   "execution_count": 28,
   "metadata": {},
   "outputs": [],
   "source": [
    "# GA CUSTOMER REVENUE COMPETITION\n",
    "# Updated kernel (11/11) with v2 files\n",
    "# Read and preprocess all columns, except hits.\n",
    "\n",
    "import gc\n",
    "import os\n",
    "import numpy as np\n",
    "import pandas as pd\n",
    "from pandas.io.json import json_normalize\n",
    "import json\n",
    "import time\n",
    "from ast import literal_eval\n",
    "pd.set_option('display.max_columns', 500)\n",
    "\n",
    "\n",
    "def load_df(file_name = 'train_v2.csv', nrows = None):\n",
    "    \"\"\"Read csv and convert json columns.\"\"\"\n",
    "    \n",
    "    USE_COLUMNS = [\n",
    "        'channelGrouping', 'date', 'device', 'fullVisitorId', 'geoNetwork',\n",
    "        'socialEngagementType', 'totals', 'trafficSource', 'visitId',\n",
    "        'visitNumber', 'visitStartTime', 'customDimensions',\n",
    "        'hits'\n",
    "    ]\n",
    "\n",
    "    JSON_COLUMNS = ['device', 'geoNetwork', 'totals', 'trafficSource']\n",
    "    df = pd.read_csv('./data/{}'.format(file_name),\n",
    "                     converters={column: json.loads for column in JSON_COLUMNS}, \n",
    "                     dtype={'fullVisitorId': 'str'}, nrows=nrows, usecols=USE_COLUMNS)\n",
    "    \n",
    "    for column in JSON_COLUMNS:\n",
    "        column_as_df = json_normalize(df[column])\n",
    "        column_as_df.columns = [f\"{column}_{subcolumn}\" for subcolumn in column_as_df.columns]\n",
    "        df = df.drop(column, axis=1).merge(column_as_df, right_index=True, left_index=True)\n",
    "        \n",
    "    # Normalize customDimensions\n",
    "    df['customDimensions']=df['customDimensions'].apply(literal_eval)\n",
    "    df['customDimensions']=df['customDimensions'].str[0]\n",
    "    df['customDimensions']=df['customDimensions'].apply(lambda x: {'index':np.NaN,'value':np.NaN} if pd.isnull(x) else x)\n",
    "\n",
    "    column_as_df = json_normalize(df['customDimensions'])\n",
    "    column_as_df.columns = [f\"customDimensions_{subcolumn}\" for subcolumn in column_as_df.columns]\n",
    "    df = df.drop('customDimensions', axis=1).merge(column_as_df, right_index=True, left_index=True)\n",
    "    # Normalize hits\n",
    "    feat = 'hits'\n",
    "    df[feat]=df[feat].apply(literal_eval)\n",
    "    df[feat]=df[feat].str[0]\n",
    "#     df[feat]=df[feat].apply(lambda x: {'index':np.NaN,'value':np.NaN} if pd.isnull(x) else x)\n",
    "\n",
    "    column_as_df = json_normalize(df[feat])\n",
    "    column_as_df.columns = [f\"hits_{subcolumn}\" for subcolumn in column_as_df.columns]\n",
    "    df = df.drop('hits', axis=1).merge(column_as_df, right_index=True, left_index=True)\n",
    "    return df\n",
    "\n",
    "    \n",
    "def pipeline():\n",
    "    timer = time.time()\n",
    "    train = load_df('train_v2.csv')\n",
    "    # Drop constant columns in train and test\n",
    "    const_cols = [c for c in train.columns if train[c].nunique(dropna=False) < 2]\n",
    "    const_cols.append('customDimensions_index')  # Also not usefull\n",
    "    train.drop(const_cols, axis=1, inplace=True)\n",
    "    # Drop campaignCode (has only 1 example that is not NaN) - only on train set\n",
    "    train.drop('trafficSource_campaignCode', axis=1, inplace=True)\n",
    "    # Save as pickle file (could be hdf5 or feather too)\n",
    "    train.to_pickle('train_all.pkl')\n",
    "    print(\"Train shape\", train.shape)\n",
    "    del train; gc.collect()\n",
    "    \n",
    "    test = load_df('test_v2.csv')\n",
    "    # Drop constant columns in train\n",
    "    test.drop(const_cols, axis=1, inplace=True)\n",
    "    # Save as pickle file (could be hdf5 or feather too)\n",
    "    test.to_pickle('test_all.pkl')\n",
    "    print(\"Test shape\", test.shape)\n",
    "    print(\"Pipeline completed in {}s\".format(time.time() - timer))\n",
    "    \n",
    "# pd.set_option('display.height', 1000)\n",
    "pd.set_option('display.max_rows', 500)\n",
    "pd.set_option('display.max_columns', 500)\n",
    "pd.set_option('display.width', 1000)\n",
    "train_df = load_df('train_v2.csv',nrows=100)"
   ]
  },
  {
   "cell_type": "code",
   "execution_count": null,
   "metadata": {},
   "outputs": [],
   "source": [
    "pipeline()\n",
    "# train_df = load_df('train_v2.csv',nrows=100)\n",
    "# train_df.columns.values"
   ]
  },
  {
   "cell_type": "code",
   "execution_count": 21,
   "metadata": {},
   "outputs": [],
   "source": [
    "\n",
    "# train_df['hits'][0]"
   ]
  },
  {
   "cell_type": "code",
   "execution_count": null,
   "metadata": {},
   "outputs": [],
   "source": []
  },
  {
   "cell_type": "code",
   "execution_count": null,
   "metadata": {},
   "outputs": [],
   "source": []
  },
  {
   "cell_type": "code",
   "execution_count": null,
   "metadata": {},
   "outputs": [],
   "source": []
  }
 ],
 "metadata": {
  "kernelspec": {
   "display_name": "Python 3",
   "language": "python",
   "name": "python3"
  },
  "language_info": {
   "codemirror_mode": {
    "name": "ipython",
    "version": 3
   },
   "file_extension": ".py",
   "mimetype": "text/x-python",
   "name": "python",
   "nbconvert_exporter": "python",
   "pygments_lexer": "ipython3",
   "version": "3.6.5"
  }
 },
 "nbformat": 4,
 "nbformat_minor": 2
}
